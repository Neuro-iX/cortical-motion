{
 "cells": [
  {
   "cell_type": "code",
   "execution_count": 1,
   "metadata": {},
   "outputs": [],
   "source": [
    "import glob\n",
    "import shutil\n",
    "import os"
   ]
  },
  {
   "cell_type": "code",
   "execution_count": 2,
   "metadata": {},
   "outputs": [
    {
     "data": {
      "text/plain": [
       "40"
      ]
     },
     "execution_count": 2,
     "metadata": {},
     "output_type": "execute_result"
    }
   ],
   "source": [
    "all_paths = glob.glob(\"/home/at70870/local_scratch/FS_SynthCortical_V2/sub-*/ses-*\")\n",
    "pairs = list(map(lambda x: x.split(\"/\")[-2:], all_paths))\n",
    "len(all_paths)"
   ]
  },
  {
   "cell_type": "code",
   "execution_count": 3,
   "metadata": {},
   "outputs": [],
   "source": [
    "sub = list(set(map(lambda x: x[0], pairs)))\n",
    "selected_sub = sub[:20]\n",
    "selected_pairs = list(filter(lambda x: x[0] in selected_sub, pairs))\n",
    "grouped_pairs = {}\n",
    "for sub, ses in selected_pairs:\n",
    "    if sub in grouped_pairs:\n",
    "        grouped_pairs[sub].append(ses)\n",
    "    else:\n",
    "        grouped_pairs[sub] = [ses]\n",
    "\n",
    "final_pairs = []\n",
    "for sub, sessions in grouped_pairs.items():\n",
    "    final_pairs.append((sub, sessions[0]))\n",
    "\n",
    "paths = list(\n",
    "    map(\n",
    "        lambda x: f\"/home/at70870/local_scratch/FS_SynthCortical_V2/{x[0]}/{x[1]}\",\n",
    "        final_pairs,\n",
    "    )\n",
    ")\n",
    "to_remove = list(set(all_paths).difference(paths))\n",
    "for rem in to_remove:\n",
    "    shutil.rmtree(rem)"
   ]
  },
  {
   "cell_type": "code",
   "execution_count": 4,
   "metadata": {},
   "outputs": [
    {
     "data": {
      "text/plain": [
       "['/home/at70870/local_scratch/FS_SynthCortical_V2/sub-NDARNZ084JVC',\n",
       " '/home/at70870/local_scratch/FS_SynthCortical_V2/sub-NDARBV663TRE',\n",
       " '/home/at70870/local_scratch/FS_SynthCortical_V2/sub-NDARGH230EG2',\n",
       " '/home/at70870/local_scratch/FS_SynthCortical_V2/sub-NDAREL410HHK',\n",
       " '/home/at70870/local_scratch/FS_SynthCortical_V2/sub-NDARWY718TY7',\n",
       " '/home/at70870/local_scratch/FS_SynthCortical_V2/sub-NDARGV455JV1',\n",
       " '/home/at70870/local_scratch/FS_SynthCortical_V2/sub-NDARZP542LJK',\n",
       " '/home/at70870/local_scratch/FS_SynthCortical_V2/sub-NDARRK617NRL',\n",
       " '/home/at70870/local_scratch/FS_SynthCortical_V2/sub-NDARVV095BWU',\n",
       " '/home/at70870/local_scratch/FS_SynthCortical_V2/sub-NDARYV571RJJ',\n",
       " '/home/at70870/local_scratch/FS_SynthCortical_V2/sub-NDARPY478YM0',\n",
       " '/home/at70870/local_scratch/FS_SynthCortical_V2/sub-NDARPE424GZZ',\n",
       " '/home/at70870/local_scratch/FS_SynthCortical_V2/sub-NDARUX408KJ1',\n",
       " '/home/at70870/local_scratch/FS_SynthCortical_V2/sub-NDARTT517NTJ',\n",
       " '/home/at70870/local_scratch/FS_SynthCortical_V2/sub-NDARDE827UF0',\n",
       " '/home/at70870/local_scratch/FS_SynthCortical_V2/sub-NDARKT593WDF',\n",
       " '/home/at70870/local_scratch/FS_SynthCortical_V2/sub-NDARRV688GUX',\n",
       " '/home/at70870/local_scratch/FS_SynthCortical_V2/sub-NDARJA262HTY',\n",
       " '/home/at70870/local_scratch/FS_SynthCortical_V2/sub-NDARAJ674WJT',\n",
       " '/home/at70870/local_scratch/FS_SynthCortical_V2/sub-NDARMA390CHB',\n",
       " '/home/at70870/local_scratch/FS_SynthCortical_V2/sub-NDARLR924YAV',\n",
       " '/home/at70870/local_scratch/FS_SynthCortical_V2/sub-NDARWE818UA6',\n",
       " '/home/at70870/local_scratch/FS_SynthCortical_V2/sub-NDARYN728TBX',\n",
       " '/home/at70870/local_scratch/FS_SynthCortical_V2/sub-NDARFX879UEY',\n",
       " '/home/at70870/local_scratch/FS_SynthCortical_V2/sub-NDARGE643MYU',\n",
       " '/home/at70870/local_scratch/FS_SynthCortical_V2/sub-NDARGD229DCJ',\n",
       " '/home/at70870/local_scratch/FS_SynthCortical_V2/sub-NDARLK306VR9',\n",
       " '/home/at70870/local_scratch/FS_SynthCortical_V2/sub-NDARTJ433TB5',\n",
       " '/home/at70870/local_scratch/FS_SynthCortical_V2/sub-NDARNP962TJK',\n",
       " '/home/at70870/local_scratch/FS_SynthCortical_V2/sub-NDARRB889VDF',\n",
       " '/home/at70870/local_scratch/FS_SynthCortical_V2/sub-NDARJE271DMC',\n",
       " '/home/at70870/local_scratch/FS_SynthCortical_V2/sub-NDARLZ701LJ3',\n",
       " '/home/at70870/local_scratch/FS_SynthCortical_V2/sub-NDARFD316UD2']"
      ]
     },
     "execution_count": 4,
     "metadata": {},
     "output_type": "execute_result"
    }
   ],
   "source": [
    "all_sub_paths = glob.glob(\"/home/at70870/local_scratch/FS_SynthCortical_V2/sub-*\")\n",
    "for path in all_sub_paths:\n",
    "    if len(os.listdir(path)) == 0:\n",
    "        os.rmdir(path)\n",
    "all_sub_paths"
   ]
  }
 ],
 "metadata": {
  "kernelspec": {
   "display_name": "bowl",
   "language": "python",
   "name": "python3"
  },
  "language_info": {
   "codemirror_mode": {
    "name": "ipython",
    "version": 3
   },
   "file_extension": ".py",
   "mimetype": "text/x-python",
   "name": "python",
   "nbconvert_exporter": "python",
   "pygments_lexer": "ipython3",
   "version": "3.11.5"
  }
 },
 "nbformat": 4,
 "nbformat_minor": 2
}
